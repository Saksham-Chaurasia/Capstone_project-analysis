{
 "cells": [
  {
   "cell_type": "code",
   "execution_count": 1,
   "id": "786505fa",
   "metadata": {},
   "outputs": [],
   "source": [
    "from pyspark.sql import SparkSession"
   ]
  },
  {
   "cell_type": "code",
   "execution_count": 2,
   "id": "c2ead231",
   "metadata": {},
   "outputs": [
    {
     "name": "stdout",
     "output_type": "stream",
     "text": [
      "root\n",
      " |-- age: integer (nullable = true)\n",
      " |-- job: string (nullable = true)\n",
      " |-- marital: string (nullable = true)\n",
      " |-- education: string (nullable = true)\n",
      " |-- default: string (nullable = true)\n",
      " |-- balance: integer (nullable = true)\n",
      " |-- housing: string (nullable = true)\n",
      " |-- loan: string (nullable = true)\n",
      " |-- contact: string (nullable = true)\n",
      " |-- day: integer (nullable = true)\n",
      " |-- month: string (nullable = true)\n",
      " |-- duration: integer (nullable = true)\n",
      " |-- campaign: integer (nullable = true)\n",
      " |-- pdays: integer (nullable = true)\n",
      " |-- previous: integer (nullable = true)\n",
      " |-- poutcome: string (nullable = true)\n",
      " |-- y: string (nullable = true)\n",
      "\n",
      "+---+------------+--------+---------+-------+-------+-------+----+-------+---+-----+--------+--------+-----+--------+--------+---+\n",
      "|age|         job| marital|education|default|balance|housing|loan|contact|day|month|duration|campaign|pdays|previous|poutcome|  y|\n",
      "+---+------------+--------+---------+-------+-------+-------+----+-------+---+-----+--------+--------+-----+--------+--------+---+\n",
      "| 58|  management| married| tertiary|     no|   2143|    yes|  no|unknown|  5|  may|     261|       1|   -1|       0| unknown| no|\n",
      "| 44|  technician|  single|secondary|     no|     29|    yes|  no|unknown|  5|  may|     151|       1|   -1|       0| unknown| no|\n",
      "| 33|entrepreneur| married|secondary|     no|      2|    yes| yes|unknown|  5|  may|      76|       1|   -1|       0| unknown| no|\n",
      "| 47| blue-collar| married|  unknown|     no|   1506|    yes|  no|unknown|  5|  may|      92|       1|   -1|       0| unknown| no|\n",
      "| 33|     unknown|  single|  unknown|     no|      1|     no|  no|unknown|  5|  may|     198|       1|   -1|       0| unknown| no|\n",
      "| 35|  management| married| tertiary|     no|    231|    yes|  no|unknown|  5|  may|     139|       1|   -1|       0| unknown| no|\n",
      "| 28|  management|  single| tertiary|     no|    447|    yes| yes|unknown|  5|  may|     217|       1|   -1|       0| unknown| no|\n",
      "| 42|entrepreneur|divorced| tertiary|    yes|      2|    yes|  no|unknown|  5|  may|     380|       1|   -1|       0| unknown| no|\n",
      "| 58|     retired| married|  primary|     no|    121|    yes|  no|unknown|  5|  may|      50|       1|   -1|       0| unknown| no|\n",
      "| 43|  technician|  single|secondary|     no|    593|    yes|  no|unknown|  5|  may|      55|       1|   -1|       0| unknown| no|\n",
      "| 41|      admin.|divorced|secondary|     no|    270|    yes|  no|unknown|  5|  may|     222|       1|   -1|       0| unknown| no|\n",
      "| 29|      admin.|  single|secondary|     no|    390|    yes|  no|unknown|  5|  may|     137|       1|   -1|       0| unknown| no|\n",
      "| 53|  technician| married|secondary|     no|      6|    yes|  no|unknown|  5|  may|     517|       1|   -1|       0| unknown| no|\n",
      "| 58|  technician| married|  unknown|     no|     71|    yes|  no|unknown|  5|  may|      71|       1|   -1|       0| unknown| no|\n",
      "| 57|    services| married|secondary|     no|    162|    yes|  no|unknown|  5|  may|     174|       1|   -1|       0| unknown| no|\n",
      "| 51|     retired| married|  primary|     no|    229|    yes|  no|unknown|  5|  may|     353|       1|   -1|       0| unknown| no|\n",
      "| 45|      admin.|  single|  unknown|     no|     13|    yes|  no|unknown|  5|  may|      98|       1|   -1|       0| unknown| no|\n",
      "| 57| blue-collar| married|  primary|     no|     52|    yes|  no|unknown|  5|  may|      38|       1|   -1|       0| unknown| no|\n",
      "| 60|     retired| married|  primary|     no|     60|    yes|  no|unknown|  5|  may|     219|       1|   -1|       0| unknown| no|\n",
      "| 33|    services| married|secondary|     no|      0|    yes|  no|unknown|  5|  may|      54|       1|   -1|       0| unknown| no|\n",
      "+---+------------+--------+---------+-------+-------+-------+----+-------+---+-----+--------+--------+-----+--------+--------+---+\n",
      "only showing top 20 rows\n",
      "\n"
     ]
    }
   ],
   "source": [
    "if __name__ ==\"__main__\":\n",
    "\n",
    "    spark = SparkSession \\\n",
    "    .builder \\\n",
    "    .appName(\"maarketdata\") \\\n",
    "    .master(\"local[1]\") \\\n",
    "    .getOrCreate()\n",
    "    \n",
    "    schema = \"age INT, job STRING , marital STRING , education STRING, default STRING, balance INT,\\\n",
    "     housing STRING, loan STRING, contact STRING, day INT, month STRING, \\\n",
    "    duration INT, campaign INT, pdays INT, previous INT, poutcome STRING, y STRING \"\n",
    "\n",
    "    data = spark.read.csv(\"D:/Projectssssss/Capstone Project/marketanalysisdata.csv\",\n",
    "                          schema=schema,sep=\",\",header=True)\n",
    "#data.createOrReplaceTempView(\"sample\")\n",
    "df2=spark.sql(\"select * from sample where age > 40 order by age \")\n",
    "df2.printSchema()\n",
    "df2.show()  \n",
    "selected_data = data.select(\"age\",\"job\",\"marital\",\"education\")\n",
    "\n",
    "    data.printSchema()\n",
    "    data.show()\n",
    "    "
   ]
  },
  {
   "cell_type": "code",
   "execution_count": 3,
   "id": "acbbdb80",
   "metadata": {},
   "outputs": [
    {
     "name": "stdout",
     "output_type": "stream",
     "text": [
      "root\n",
      " |-- age: integer (nullable = true)\n",
      " |-- job: string (nullable = true)\n",
      " |-- marital: string (nullable = true)\n",
      " |-- education: string (nullable = true)\n",
      " |-- default: string (nullable = true)\n",
      " |-- balance: integer (nullable = true)\n",
      " |-- housing: string (nullable = true)\n",
      " |-- loan: string (nullable = true)\n",
      " |-- contact: string (nullable = true)\n",
      " |-- day: integer (nullable = true)\n",
      " |-- month: string (nullable = true)\n",
      " |-- duration: integer (nullable = true)\n",
      " |-- campaign: integer (nullable = true)\n",
      " |-- pdays: integer (nullable = true)\n",
      " |-- previous: integer (nullable = true)\n",
      " |-- poutcome: string (nullable = true)\n",
      " |-- y: string (nullable = true)\n",
      "\n",
      "+---+------------+--------+---------+-------+-------+-------+----+-------+---+-----+--------+--------+-----+--------+--------+---+\n",
      "|age|         job| marital|education|default|balance|housing|loan|contact|day|month|duration|campaign|pdays|previous|poutcome|  y|\n",
      "+---+------------+--------+---------+-------+-------+-------+----+-------+---+-----+--------+--------+-----+--------+--------+---+\n",
      "| 41|  management| married| tertiary|     no|     65|    yes|  no|unknown|  6|  may|     524|       2|   -1|       0| unknown| no|\n",
      "| 41|  technician| married|  unknown|     no|    254|    yes|  no|unknown|  8|  may|     690|       1|   -1|       0| unknown| no|\n",
      "| 41|  technician| married|secondary|     no|   -366|    yes| yes|unknown|  6|  may|      29|       3|   -1|       0| unknown| no|\n",
      "| 41|  technician| married|secondary|     no|   1270|    yes|  no|unknown|  5|  may|    1389|       1|   -1|       0| unknown|yes|\n",
      "| 41|    services| married|  unknown|     no|      4|     no|  no|unknown|  6|  may|     284|       2|   -1|       0| unknown| no|\n",
      "| 41|    services| married|secondary|     no|      0|    yes|  no|unknown|  5|  may|     114|       2|   -1|       0| unknown| no|\n",
      "| 41|entrepreneur| married|  unknown|     no|     89|    yes|  no|unknown|  6|  may|     333|       2|   -1|       0| unknown| no|\n",
      "| 41|  management| married| tertiary|     no|    517|    yes|  no|unknown|  5|  may|     251|       1|   -1|       0| unknown| no|\n",
      "| 41| blue-collar| married|secondary|     no|    140|    yes|  no|unknown|  6|  may|     311|       3|   -1|       0| unknown| no|\n",
      "| 41| blue-collar| married|  primary|     no|    183|    yes| yes|unknown|  5|  may|     110|       2|   -1|       0| unknown| no|\n",
      "| 41|      admin.| married|secondary|     no|      0|    yes|  no|unknown|  6|  may|     160|       3|   -1|       0| unknown| no|\n",
      "| 41| blue-collar| married|secondary|     no|    290|    yes|  no|unknown|  5|  may|     240|       2|   -1|       0| unknown| no|\n",
      "| 41|      admin.|divorced|secondary|     no|    322|    yes|  no|unknown|  6|  may|      87|       4|   -1|       0| unknown| no|\n",
      "| 41|  technician| married|secondary|     no|    871|    yes|  no|unknown|  6|  may|     145|       1|   -1|       0| unknown| no|\n",
      "| 41| blue-collar| married|  primary|     no|    512|    yes|  no|unknown|  6|  may|     233|       2|   -1|       0| unknown| no|\n",
      "| 41| blue-collar| married|secondary|     no|    946|    yes|  no|unknown|  6|  may|     325|       1|   -1|       0| unknown| no|\n",
      "| 41|  technician| married|secondary|     no|    169|    yes|  no|unknown|  7|  may|     296|       2|   -1|       0| unknown| no|\n",
      "| 41| blue-collar|  single|  primary|    yes|   -137|    yes| yes|unknown|  6|  may|     189|       1|   -1|       0| unknown| no|\n",
      "| 41|  management|divorced|secondary|     no|    276|    yes|  no|unknown|  7|  may|      60|       1|   -1|       0| unknown| no|\n",
      "| 41| blue-collar| married|  unknown|     no|    225|    yes|  no|unknown|  7|  may|     690|       2|   -1|       0| unknown| no|\n",
      "+---+------------+--------+---------+-------+-------+-------+----+-------+---+-----+--------+--------+-----+--------+--------+---+\n",
      "only showing top 20 rows\n",
      "\n"
     ]
    }
   ],
   "source": [
    "data.createOrReplaceTempView(\"sample\")\n",
    "df2=spark.sql(\"select * from sample where age > 40 order by age \")\n",
    "df2.printSchema()\n",
    "df2.show()"
   ]
  },
  {
   "cell_type": "code",
   "execution_count": 4,
   "id": "04c3181b",
   "metadata": {},
   "outputs": [
    {
     "name": "stdout",
     "output_type": "stream",
     "text": [
      "+---+-----+\n",
      "|  y|  cnt|\n",
      "+---+-----+\n",
      "| no|39922|\n",
      "|yes| 5289|\n",
      "+---+-----+\n",
      "\n",
      "+---------+\n",
      "|total_cnt|\n",
      "+---------+\n",
      "|    45211|\n",
      "+---------+\n",
      "\n"
     ]
    }
   ],
   "source": [
    "# giving marketing success rate\n",
    "# giving marketing failure rate\n",
    "\n",
    "df3 = spark.sql(\"select y,count(*) as cnt from sample group by y\")\n",
    "df4 = spark.sql(\"select count(*) as total_cnt from sample\")\n",
    "df3.show()\n",
    "df4.show()\n",
    "\n",
    "df4.createOrReplaceTempView(\"total\")\n",
    "df3.createOrReplaceTempView(\"market\")"
   ]
  },
  {
   "cell_type": "code",
   "execution_count": 5,
   "id": "32c546da",
   "metadata": {},
   "outputs": [
    {
     "name": "stdout",
     "output_type": "stream",
     "text": [
      "+---+-----+-----------------+------------------+\n",
      "|  y|  cnt|(total_cnt - cnt)|           percent|\n",
      "+---+-----+-----------------+------------------+\n",
      "| no|39922|             5289| 88.30151954170445|\n",
      "|yes| 5289|            39922|11.698480458295547|\n",
      "+---+-----+-----------------+------------------+\n",
      "\n"
     ]
    }
   ],
   "source": [
    "# market success rate and failure \n",
    "df5=spark.sql(\"select m.y,m.cnt , t.total_cnt-m.cnt, m.cnt/t.total_cnt * 100 as percent from market m left join total t \")\n",
    "df5.show()"
   ]
  },
  {
   "cell_type": "code",
   "execution_count": 6,
   "id": "6c11584d",
   "metadata": {},
   "outputs": [
    {
     "name": "stdout",
     "output_type": "stream",
     "text": [
      "+-------+-------+------------------+\n",
      "|Max_age|Min_age|          mean_age|\n",
      "+-------+-------+------------------+\n",
      "|     95|     18|41.670069956513515|\n",
      "+-------+-------+------------------+\n",
      "\n"
     ]
    }
   ],
   "source": [
    "# average ,mean,median,age of targeted customer\n",
    "df6 = spark.sql(\"select max(age) as Max_age, min(age) as Min_age, Avg(age) as mean_age from sample where y='yes'\")\n",
    "df6.show()"
   ]
  },
  {
   "cell_type": "code",
   "execution_count": 7,
   "id": "f6c59a7f",
   "metadata": {},
   "outputs": [
    {
     "name": "stdout",
     "output_type": "stream",
     "text": [
      "+------------------+--------------+\n",
      "|      mean_balance|median_balance|\n",
      "+------------------+--------------+\n",
      "|1362.2720576850766|           448|\n",
      "+------------------+--------------+\n",
      "\n"
     ]
    }
   ],
   "source": [
    "df7 = spark.sql(\"select avg(balance) as mean_balance,percentile_approx(balance,0.5) as median_balance from sample \").show()"
   ]
  },
  {
   "cell_type": "code",
   "execution_count": 8,
   "id": "0799bff9",
   "metadata": {},
   "outputs": [
    {
     "name": "stdout",
     "output_type": "stream",
     "text": [
      "+---+---+\n",
      "|age|cnt|\n",
      "+---+---+\n",
      "| 95|  1|\n",
      "| 93|  2|\n",
      "| 92|  2|\n",
      "| 90|  2|\n",
      "| 87|  3|\n",
      "| 85|  4|\n",
      "| 86|  4|\n",
      "| 84|  5|\n",
      "| 81|  6|\n",
      "| 83|  6|\n",
      "| 18|  7|\n",
      "| 82|  8|\n",
      "| 79| 10|\n",
      "| 19| 11|\n",
      "| 80| 12|\n",
      "| 74| 13|\n",
      "| 78| 14|\n",
      "| 20| 15|\n",
      "| 75| 15|\n",
      "| 76| 16|\n",
      "+---+---+\n",
      "only showing top 20 rows\n",
      "\n"
     ]
    }
   ],
   "source": [
    "# age matters marketing subscription\n",
    "df8 = spark.sql(\"select age,count(*) as cnt from sample where y ='yes' group by age order by cnt\").show()"
   ]
  },
  {
   "cell_type": "code",
   "execution_count": 9,
   "id": "b534d432",
   "metadata": {},
   "outputs": [
    {
     "name": "stdout",
     "output_type": "stream",
     "text": [
      "+--------+----+\n",
      "| marital| cnt|\n",
      "+--------+----+\n",
      "|divorced| 622|\n",
      "|  single|1912|\n",
      "| married|2755|\n",
      "+--------+----+\n",
      "\n"
     ]
    }
   ],
   "source": [
    "# marital status matters subscription of deposit\n",
    "df9 = spark.sql(\"select marital,count(*)as cnt from sample where y = 'yes' group by marital order by cnt\").show()"
   ]
  },
  {
   "cell_type": "code",
   "execution_count": 10,
   "id": "0bed0390",
   "metadata": {},
   "outputs": [
    {
     "name": "stdout",
     "output_type": "stream",
     "text": [
      "+---+--------+---+-------+\n",
      "|age| marital|cnt|deposit|\n",
      "+---+--------+---+-------+\n",
      "| 18|  single| 12|      7|\n",
      "| 19|  single| 35|     11|\n",
      "| 20| married|  3|      1|\n",
      "| 20|  single| 47|     14|\n",
      "| 21| married|  5|      1|\n",
      "| 21|  single| 74|     21|\n",
      "| 22| married|  9|      0|\n",
      "| 22|  single|120|     40|\n",
      "| 23| married| 27|      2|\n",
      "| 23|  single|175|     42|\n",
      "| 24|divorced|  1|      0|\n",
      "| 24| married| 53|     10|\n",
      "| 24|  single|248|     58|\n",
      "| 25|divorced|  6|      0|\n",
      "| 25| married| 98|     14|\n",
      "| 25|  single|423|     99|\n",
      "| 26|divorced| 20|      0|\n",
      "| 26| married|170|     13|\n",
      "| 26|  single|615|    121|\n",
      "| 27|divorced| 18|      2|\n",
      "+---+--------+---+-------+\n",
      "only showing top 20 rows\n",
      "\n"
     ]
    }
   ],
   "source": [
    "# age and marital both matters subscription of deposit\n",
    "df10 = spark.sql(\"select age, marital,count(*) as cnt,sum(case when y = 'yes' then 1 else 0 end) as deposit from sample group by age, marital order by age, marital\").show()"
   ]
  },
  {
   "cell_type": "code",
   "execution_count": 14,
   "id": "9b53d8ea",
   "metadata": {},
   "outputs": [
    {
     "name": "stdout",
     "output_type": "stream",
     "text": [
      "+---+------------+--------+---------+-------+-------+-------+----+-------+---+-----+--------+--------+-----+--------+--------+---+-------------+\n",
      "|age|         job| marital|education|default|balance|housing|loan|contact|day|month|duration|campaign|pdays|previous|poutcome|  y|age_featuring|\n",
      "+---+------------+--------+---------+-------+-------+-------+----+-------+---+-----+--------+--------+-----+--------+--------+---+-------------+\n",
      "| 58|  management| married| tertiary|     no|   2143|    yes|  no|unknown|  5|  may|     261|       1|   -1|       0| unknown| no|        50-60|\n",
      "| 44|  technician|  single|secondary|     no|     29|    yes|  no|unknown|  5|  may|     151|       1|   -1|       0| unknown| no|        40-50|\n",
      "| 33|entrepreneur| married|secondary|     no|      2|    yes| yes|unknown|  5|  may|      76|       1|   -1|       0| unknown| no|        30-40|\n",
      "| 47| blue-collar| married|  unknown|     no|   1506|    yes|  no|unknown|  5|  may|      92|       1|   -1|       0| unknown| no|        40-50|\n",
      "| 33|     unknown|  single|  unknown|     no|      1|     no|  no|unknown|  5|  may|     198|       1|   -1|       0| unknown| no|        30-40|\n",
      "| 35|  management| married| tertiary|     no|    231|    yes|  no|unknown|  5|  may|     139|       1|   -1|       0| unknown| no|        30-40|\n",
      "| 28|  management|  single| tertiary|     no|    447|    yes| yes|unknown|  5|  may|     217|       1|   -1|       0| unknown| no|        20-30|\n",
      "| 42|entrepreneur|divorced| tertiary|    yes|      2|    yes|  no|unknown|  5|  may|     380|       1|   -1|       0| unknown| no|        40-50|\n",
      "| 58|     retired| married|  primary|     no|    121|    yes|  no|unknown|  5|  may|      50|       1|   -1|       0| unknown| no|        50-60|\n",
      "| 43|  technician|  single|secondary|     no|    593|    yes|  no|unknown|  5|  may|      55|       1|   -1|       0| unknown| no|        40-50|\n",
      "| 41|      admin.|divorced|secondary|     no|    270|    yes|  no|unknown|  5|  may|     222|       1|   -1|       0| unknown| no|        40-50|\n",
      "| 29|      admin.|  single|secondary|     no|    390|    yes|  no|unknown|  5|  may|     137|       1|   -1|       0| unknown| no|        20-30|\n",
      "| 53|  technician| married|secondary|     no|      6|    yes|  no|unknown|  5|  may|     517|       1|   -1|       0| unknown| no|        50-60|\n",
      "| 58|  technician| married|  unknown|     no|     71|    yes|  no|unknown|  5|  may|      71|       1|   -1|       0| unknown| no|        50-60|\n",
      "| 57|    services| married|secondary|     no|    162|    yes|  no|unknown|  5|  may|     174|       1|   -1|       0| unknown| no|        50-60|\n",
      "| 51|     retired| married|  primary|     no|    229|    yes|  no|unknown|  5|  may|     353|       1|   -1|       0| unknown| no|        50-60|\n",
      "| 45|      admin.|  single|  unknown|     no|     13|    yes|  no|unknown|  5|  may|      98|       1|   -1|       0| unknown| no|        40-50|\n",
      "| 57| blue-collar| married|  primary|     no|     52|    yes|  no|unknown|  5|  may|      38|       1|   -1|       0| unknown| no|        50-60|\n",
      "| 60|     retired| married|  primary|     no|     60|    yes|  no|unknown|  5|  may|     219|       1|   -1|       0| unknown| no|        50-60|\n",
      "| 33|    services| married|secondary|     no|      0|    yes|  no|unknown|  5|  may|      54|       1|   -1|       0| unknown| no|        30-40|\n",
      "+---+------------+--------+---------+-------+-------+-------+----+-------+---+-----+--------+--------+-----+--------+--------+---+-------------+\n",
      "only showing top 20 rows\n",
      "\n"
     ]
    }
   ],
   "source": [
    "# age_featuring\n",
    "df11 = spark.sql(\"select * ,case when age<=20 then '20-' \\\n",
    "                  when age >20 and age<=30 then '20-30' \\\n",
    "                  when age >30 and age<=40 then '30-40' \\\n",
    "                  when age >40 and age<=50 then '40-50' \\\n",
    "                  when age >50 and age<=60 then '50-60' \\\n",
    "                  when age >60 and age<=70 then '60-70' \\\n",
    "                     else '70+' end as age_featuring from sample\")\n",
    "df11.show()\n"
   ]
  },
  {
   "cell_type": "code",
   "execution_count": 31,
   "id": "ce294068",
   "metadata": {},
   "outputs": [
    {
     "name": "stdout",
     "output_type": "stream",
     "text": [
      "+--------+-------------+\n",
      "|campaign|age_featuring|\n",
      "+--------+-------------+\n",
      "|     229|          20-|\n",
      "|    1040|          70+|\n",
      "|    1368|        60-70|\n",
      "|   17740|        20-30|\n",
      "|   22725|        50-60|\n",
      "|   32594|        40-50|\n",
      "|   49260|        30-40|\n",
      "+--------+-------------+\n",
      "\n"
     ]
    }
   ],
   "source": [
    "df11.createOrReplaceTempView(\"aged\")\n",
    "df12 = spark.sql(\"select sum(campaign) as campaign,age_featuring from aged group by age_featuring order by campaign\").show()"
   ]
  },
  {
   "cell_type": "code",
   "execution_count": 41,
   "id": "0030ccc2",
   "metadata": {},
   "outputs": [],
   "source": [
    "import matplotlib as ply\n",
    "import pandas as pd\n",
    "import seaborn as sns"
   ]
  },
  {
   "cell_type": "code",
   "execution_count": 35,
   "id": "00952021",
   "metadata": {},
   "outputs": [
    {
     "name": "stdout",
     "output_type": "stream",
     "text": [
      "+---+---+\n",
      "|age|  y|\n",
      "+---+---+\n",
      "| 58| no|\n",
      "| 44| no|\n",
      "| 33| no|\n",
      "| 47| no|\n",
      "| 33| no|\n",
      "| 35| no|\n",
      "| 28| no|\n",
      "| 42| no|\n",
      "| 58| no|\n",
      "| 43| no|\n",
      "| 41| no|\n",
      "| 29| no|\n",
      "| 53| no|\n",
      "| 58| no|\n",
      "| 57| no|\n",
      "| 51| no|\n",
      "| 45| no|\n",
      "| 57| no|\n",
      "| 60| no|\n",
      "| 33| no|\n",
      "+---+---+\n",
      "only showing top 20 rows\n",
      "\n"
     ]
    }
   ],
   "source": [
    "df13=spark.sql(\"select age,y from aged\")\n",
    "df13.show()"
   ]
  },
  {
   "cell_type": "code",
   "execution_count": 44,
   "id": "38fc318c",
   "metadata": {},
   "outputs": [
    {
     "data": {
      "text/plain": [
       "<Axes: xlabel='y', ylabel='count'>"
      ]
     },
     "execution_count": 44,
     "metadata": {},
     "output_type": "execute_result"
    },
    {
     "data": {
      "image/png": "[encoded data removed]",
      "text/plain": [
       "<Figure size 640x480 with 1 Axes>"
      ]
     },
     "metadata": {},
     "output_type": "display_data"
    }
   ],
   "source": [
    "df14=df13.toPandas()\n",
    "sns.countplot(data=df14, x='y')"
   ]
  },
  {
   "cell_type": "code",
   "execution_count": null,
   "id": "052cd1f5",
   "metadata": {},
   "outputs": [],
   "source": []
  }
 ],
 "metadata": {
  "kernelspec": {
   "display_name": "Python 3 (ipykernel)",
   "language": "python",
   "name": "python3"
  },
  "language_info": {
   "codemirror_mode": {
    "name": "ipython",
    "version": 3
   },
   "file_extension": ".py",
   "mimetype": "text/x-python",
   "name": "python",
   "nbconvert_exporter": "python",
   "pygments_lexer": "ipython3",
   "version": "3.10.9"
  }
 },
 "nbformat": 4,
 "nbformat_minor": 5
}
